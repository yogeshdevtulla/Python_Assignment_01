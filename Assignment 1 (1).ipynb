{
 "cells": [
  {
   "cell_type": "markdown",
   "id": "db113072",
   "metadata": {},
   "source": [
    "Q1. Explain with an example each when to use a for loop and a while loop."
   ]
  },
  {
   "cell_type": "markdown",
   "id": "74c5de73",
   "metadata": {},
   "source": [
    "for loop is used when we have to specify starting and ending point of my loop.\n",
    "example: \n",
    "if i have to print a table as starting point is 1 and ending point is 10 but here in for loop as ending point is excluded so i have to use 10+1.\n",
    "___________CODE______________\n",
    "for i in range(1,11):\n",
    "    print(\"2 X \",i,\" = \",2*i)\n",
    "    \n",
    "while loop is used when i have to follow any condition, as the condition become false i have to exit from loop.\n",
    "example:\n",
    "here also i have printed a table of 2 but here in while loop i used condition untill the i is less than or equal to 10.i have to be in loop else i will exit from the loop.\n",
    "___________CODE______________\n",
    "i=1\n",
    "while i<=10:\n",
    "    print(\"2 X \",i,\" = \",2*i)\n",
    "    i+=1"
   ]
  },
  {
   "cell_type": "markdown",
   "id": "233fbeaa",
   "metadata": {},
   "source": [
    "Q2. Write a python program to print the sum and product of the first 10 natural numbers using for\n",
    "and while loop."
   ]
  },
  {
   "cell_type": "code",
   "execution_count": null,
   "id": "bbb8c365",
   "metadata": {},
   "outputs": [],
   "source": [
    "sum,product=0,1\n",
    "for i in range(1,11):\n",
    "    sum+=i\n",
    "    product*=i\n",
    "print(sum)\n",
    "print(product)"
   ]
  },
  {
   "cell_type": "code",
   "execution_count": null,
   "id": "b89e1050",
   "metadata": {},
   "outputs": [],
   "source": [
    "sum=0\n",
    "p=1\n",
    "i=1\n",
    "while i<=10:\n",
    "    sum+=i\n",
    "    p*=i\n",
    "    i+=1\n",
    "print(sum)\n",
    "print(p)"
   ]
  },
  {
   "cell_type": "markdown",
   "id": "8e460130",
   "metadata": {},
   "source": [
    "Q3. Create a python program to compute the electricity bill for a household.\n",
    "The per-unit charges in rupees are as follows: \n",
    "For the first 100 units, the user will be charged Rs. 4.5 per unit, \n",
    "For the next 100 units, the user will be charged Rs. 6 per unit, and \n",
    "For the next 100 units, the user will be charged Rs. 10 per unit, \n",
    "After 300 units and above the user will be charged Rs. 20 per unit.\n",
    "\n",
    "You are required to take the units of electricity consumed in a month from the user as input.\n",
    "Your program must pass this test case: when the unit of electricity consumed by the user in a month is\n",
    "310, the total electricity bill should be 2250."
   ]
  },
  {
   "cell_type": "code",
   "execution_count": 3,
   "id": "1d33a064",
   "metadata": {},
   "outputs": [
    {
     "name": "stdout",
     "output_type": "stream",
     "text": [
      "Enter units of electricity consumed in a month: 310\n",
      "2250.0\n"
     ]
    }
   ],
   "source": [
    "unit=int(input(\"Enter units of electricity consumed in a month: \"))\n",
    "if unit<=100:\n",
    "    price=unit*4.5\n",
    "elif unit<=200:\n",
    "    price=100*4.5+(unit-100)*6\n",
    "elif unit<=300:\n",
    "    price=100*4.5+100*6+(unit-200)*10\n",
    "else:\n",
    "    price=100*4.5+100*6+100*10+(unit-300)*20\n",
    "print(price)\n",
    "\n",
    "    \n",
    "    \n"
   ]
  },
  {
   "cell_type": "markdown",
   "id": "10b259b4",
   "metadata": {},
   "source": [
    "Q4. Create a list of numbers from 1 to 100. Use for loop and while loop to calculate the cube of each\n",
    "number and if the cube of that number is divisible by 4 or 5 then append that number in a list and print\n",
    "that list."
   ]
  },
  {
   "cell_type": "code",
   "execution_count": 8,
   "id": "a05f24d9",
   "metadata": {},
   "outputs": [
    {
     "name": "stdout",
     "output_type": "stream",
     "text": [
      "[8, 64, 125, 216, 512, 1000, 1728, 2744, 3375, 4096, 5832, 8000, 10648, 13824, 15625, 17576, 21952, 27000, 32768, 39304, 42875, 46656, 54872, 64000, 74088, 85184, 91125, 97336, 110592, 125000, 140608, 157464, 166375, 175616, 195112, 216000, 238328, 262144, 274625, 287496, 314432, 343000, 373248, 405224, 421875, 438976, 474552, 512000, 551368, 592704, 614125, 636056, 681472, 729000, 778688, 830584, 857375, 884736, 941192, 1000000]\n",
      "[8, 64, 125, 216, 512, 1000, 1728, 2744, 3375, 4096, 5832, 8000, 10648, 13824, 15625, 17576, 21952, 27000, 32768, 39304, 42875, 46656, 54872, 64000, 74088, 85184, 91125, 97336, 110592, 125000, 140608, 157464, 166375, 175616, 195112, 216000, 238328, 262144, 274625, 287496, 314432, 343000, 373248, 405224, 421875, 438976, 474552, 512000, 551368, 592704, 614125, 636056, 681472, 729000, 778688, 830584, 857375, 884736, 941192, 1000000]\n"
     ]
    }
   ],
   "source": [
    "l=[]\n",
    "l1=[]\n",
    "for i in range(1,101):\n",
    "    l.append(i)\n",
    "for i in l:\n",
    "    cube=i**3\n",
    "    if(cube%4==0 or cube%5==0):\n",
    "        l1.append(cube)\n",
    "print(l1)\n",
    "\n",
    "l2=[]\n",
    "i=1\n",
    "while i<=len(l):\n",
    "    cube=i**3\n",
    "    if(cube%4==0 or cube%5==0):\n",
    "        l2.append(cube)\n",
    "    i+=1\n",
    "print(l2)\n",
    "    "
   ]
  },
  {
   "cell_type": "markdown",
   "id": "64d8bc10",
   "metadata": {},
   "source": [
    "Q5. Write a program to filter count vowels in the below-given string.\n",
    "string = \"I want to become a data scientist\""
   ]
  },
  {
   "cell_type": "code",
   "execution_count": 13,
   "id": "ba0eec87",
   "metadata": {},
   "outputs": [
    {
     "name": "stdout",
     "output_type": "stream",
     "text": [
      "vowels present in given list are:  12\n"
     ]
    }
   ],
   "source": [
    "string = \"I want to become a data scientist\"\n",
    "vowel=(\"aeiouAEIOU\")\n",
    "count=0\n",
    "for i in string:\n",
    "    if i in vowel:\n",
    "        count+=1\n",
    "print(\"vowels present in given list are: \",count)\n",
    "        "
   ]
  },
  {
   "cell_type": "markdown",
   "id": "ad601f4d",
   "metadata": {},
   "source": [
    "# Thank You!!!"
   ]
  }
 ],
 "metadata": {
  "kernelspec": {
   "display_name": "Python 3 (ipykernel)",
   "language": "python",
   "name": "python3"
  },
  "language_info": {
   "codemirror_mode": {
    "name": "ipython",
    "version": 3
   },
   "file_extension": ".py",
   "mimetype": "text/x-python",
   "name": "python",
   "nbconvert_exporter": "python",
   "pygments_lexer": "ipython3",
   "version": "3.11.4"
  }
 },
 "nbformat": 4,
 "nbformat_minor": 5
}
